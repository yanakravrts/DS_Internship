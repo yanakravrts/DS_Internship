{
 "cells": [
  {
   "cell_type": "markdown",
   "metadata": {},
   "source": [
    "# Dataset generation"
   ]
  },
  {
   "cell_type": "markdown",
   "metadata": {},
   "source": [
    "## Import necessary libraries"
   ]
  },
  {
   "cell_type": "code",
   "execution_count": 1,
   "metadata": {},
   "outputs": [],
   "source": [
    "import pandas as pd "
   ]
  },
  {
   "cell_type": "markdown",
   "metadata": {},
   "source": [
    "## Define the paths to the files containing mountain names and sentences"
   ]
  },
  {
   "cell_type": "code",
   "execution_count": 2,
   "metadata": {},
   "outputs": [],
   "source": [
    "mountain_csv = 'data_for_dataset/mountain.csv'\n",
    "sentences_csv = 'data_for_dataset/sentences.csv'"
   ]
  },
  {
   "cell_type": "markdown",
   "metadata": {},
   "source": [
    "## Load datasets into a DataFrame"
   ]
  },
  {
   "cell_type": "code",
   "execution_count": 3,
   "metadata": {},
   "outputs": [],
   "source": [
    "mountain_df = pd.read_csv(mountain_csv)\n",
    "sentences_df = pd.read_csv(sentences_csv)"
   ]
  },
  {
   "cell_type": "markdown",
   "metadata": {},
   "source": [
    "## Creating list of mountain names "
   ]
  },
  {
   "cell_type": "code",
   "execution_count": 4,
   "metadata": {},
   "outputs": [
    {
     "data": {
      "text/plain": [
       "['Mount Everest',\n",
       " 'K2',\n",
       " 'Kangchenjunga',\n",
       " 'Lhotse',\n",
       " 'Makalu',\n",
       " 'Cho Oyu',\n",
       " 'Dhaulagiri',\n",
       " 'Manaslu',\n",
       " 'Nanga Parbat',\n",
       " 'Annapurna']"
      ]
     },
     "execution_count": 4,
     "metadata": {},
     "output_type": "execute_result"
    }
   ],
   "source": [
    "mountains_list = mountain_df['Mountain'].tolist()\n",
    "mountains_list[0:10]"
   ]
  },
  {
   "cell_type": "markdown",
   "metadata": {},
   "source": [
    "## Function tokenizes a given sentence and tags mountain names with appropriate labels."
   ]
  },
  {
   "cell_type": "code",
   "execution_count": 5,
   "metadata": {},
   "outputs": [],
   "source": [
    "def tokenize_sentences(sentence, mountains_list):\n",
    "    words = sentence.split()\n",
    "    tags = [\"O\"] * len(words)\n",
    "\n",
    "    for mount_name in mountains_list:\n",
    "        if mount_name in sentence:\n",
    "            mount_words = mount_name.split()\n",
    "            start_index = sentence.find(mount_name)\n",
    "            end_index = start_index + len(mount_name)\n",
    "\n",
    "            start_word_index = len(sentence[:start_index].split())\n",
    "            end_word_index = start_word_index + len(mount_words)\n",
    "\n",
    "            if end_word_index <= len(tags):\n",
    "                tags[start_word_index] = 'B-MOUNTAIN'\n",
    "                for i in range(start_word_index + 1, end_word_index):\n",
    "                    tags[i] = 'I-MOUNTAIN'\n",
    "\n",
    "    return words, tags\n"
   ]
  },
  {
   "cell_type": "markdown",
   "metadata": {},
   "source": [
    "## Apply the tokenize_sentences function to each sentence in the DataFrame"
   ]
  },
  {
   "cell_type": "code",
   "execution_count": 6,
   "metadata": {},
   "outputs": [],
   "source": [
    "sentences_df[['tokens', 'tags']] = sentences_df['sentence'].apply(lambda x: pd.Series(tokenize_sentences(x, mountains_list)))\n"
   ]
  },
  {
   "cell_type": "markdown",
   "metadata": {},
   "source": [
    "## Define the output path for the tokenized sentences dataset and save the DataFrame to a CSV"
   ]
  },
  {
   "cell_type": "code",
   "execution_count": 7,
   "metadata": {},
   "outputs": [],
   "source": [
    "sentence_tokenize_dataset = 'data_for_dataset/sentences_tokenizer.csv'\n",
    "sentences_df.to_csv(sentence_tokenize_dataset, index=False, encoding='utf-8')\n"
   ]
  },
  {
   "cell_type": "markdown",
   "metadata": {},
   "source": [
    "## Extract tokens and tags into a new DataFrame."
   ]
  },
  {
   "cell_type": "code",
   "execution_count": 8,
   "metadata": {},
   "outputs": [],
   "source": [
    "final_df = sentences_df[['tokens', 'tags']]"
   ]
  },
  {
   "cell_type": "markdown",
   "metadata": {},
   "source": [
    "## Save the new DataFrame as a CSV file."
   ]
  },
  {
   "cell_type": "code",
   "execution_count": 9,
   "metadata": {},
   "outputs": [],
   "source": [
    "ner_dataset = 'data_for_dataset/ner_dataset.csv'\n",
    "final_df.to_csv(ner_dataset,index=False, encoding='utf-8')"
   ]
  },
  {
   "cell_type": "markdown",
   "metadata": {},
   "source": [
    "## First 10 rows of dataset"
   ]
  },
  {
   "cell_type": "code",
   "execution_count": 10,
   "metadata": {},
   "outputs": [
    {
     "data": {
      "text/html": [
       "<div>\n",
       "<style scoped>\n",
       "    .dataframe tbody tr th:only-of-type {\n",
       "        vertical-align: middle;\n",
       "    }\n",
       "\n",
       "    .dataframe tbody tr th {\n",
       "        vertical-align: top;\n",
       "    }\n",
       "\n",
       "    .dataframe thead th {\n",
       "        text-align: right;\n",
       "    }\n",
       "</style>\n",
       "<table border=\"1\" class=\"dataframe\">\n",
       "  <thead>\n",
       "    <tr style=\"text-align: right;\">\n",
       "      <th></th>\n",
       "      <th>tokens</th>\n",
       "      <th>tags</th>\n",
       "    </tr>\n",
       "  </thead>\n",
       "  <tbody>\n",
       "    <tr>\n",
       "      <th>0</th>\n",
       "      <td>[Mount, Everest, is, the, highest, mountain, i...</td>\n",
       "      <td>[B-MOUNTAIN, I-MOUNTAIN, O, O, O, O, O, O, O]</td>\n",
       "    </tr>\n",
       "    <tr>\n",
       "      <th>1</th>\n",
       "      <td>[Kilimanjaro, offers, breathtaking, views, of,...</td>\n",
       "      <td>[B-MOUNTAIN, O, O, O, O, O]</td>\n",
       "    </tr>\n",
       "    <tr>\n",
       "      <th>2</th>\n",
       "      <td>[The, sunrise, view, from, Mount, Kilimanjaro,...</td>\n",
       "      <td>[O, O, O, O, B-MOUNTAIN, I-MOUNTAIN, O, O]</td>\n",
       "    </tr>\n",
       "    <tr>\n",
       "      <th>3</th>\n",
       "      <td>[Mount, Fuji, is, an, iconic, symbol, of, Japan.]</td>\n",
       "      <td>[B-MOUNTAIN, I-MOUNTAIN, O, O, O, O, O, O]</td>\n",
       "    </tr>\n",
       "    <tr>\n",
       "      <th>4</th>\n",
       "      <td>[Many, climbers, dream, of, scaling, Denali, i...</td>\n",
       "      <td>[O, O, O, O, O, B-MOUNTAIN, O, O]</td>\n",
       "    </tr>\n",
       "    <tr>\n",
       "      <th>5</th>\n",
       "      <td>[K2,, also, known, as, Mount, Godwin-Austen,, ...</td>\n",
       "      <td>[B-MOUNTAIN, O, O, O, O, O, O, O, O, O, O, O, O]</td>\n",
       "    </tr>\n",
       "    <tr>\n",
       "      <th>6</th>\n",
       "      <td>[Aoraki, /, Mount, Cook, is, the, tallest, mou...</td>\n",
       "      <td>[B-MOUNTAIN, I-MOUNTAIN, I-MOUNTAIN, I-MOUNTAI...</td>\n",
       "    </tr>\n",
       "    <tr>\n",
       "      <th>7</th>\n",
       "      <td>[Mount, Elbrus, is, the, highest, peak, in, Eu...</td>\n",
       "      <td>[B-MOUNTAIN, I-MOUNTAIN, O, O, O, O, O, O]</td>\n",
       "    </tr>\n",
       "    <tr>\n",
       "      <th>8</th>\n",
       "      <td>[Climbing, Vinson, in, Antarctica, is, a, rare...</td>\n",
       "      <td>[O, B-MOUNTAIN, O, O, O, O, O, O]</td>\n",
       "    </tr>\n",
       "    <tr>\n",
       "      <th>9</th>\n",
       "      <td>[Mount, Rainier, towers, over, the, skyline, o...</td>\n",
       "      <td>[B-MOUNTAIN, I-MOUNTAIN, O, O, O, O, O, O]</td>\n",
       "    </tr>\n",
       "  </tbody>\n",
       "</table>\n",
       "</div>"
      ],
      "text/plain": [
       "                                              tokens  \\\n",
       "0  [Mount, Everest, is, the, highest, mountain, i...   \n",
       "1  [Kilimanjaro, offers, breathtaking, views, of,...   \n",
       "2  [The, sunrise, view, from, Mount, Kilimanjaro,...   \n",
       "3  [Mount, Fuji, is, an, iconic, symbol, of, Japan.]   \n",
       "4  [Many, climbers, dream, of, scaling, Denali, i...   \n",
       "5  [K2,, also, known, as, Mount, Godwin-Austen,, ...   \n",
       "6  [Aoraki, /, Mount, Cook, is, the, tallest, mou...   \n",
       "7  [Mount, Elbrus, is, the, highest, peak, in, Eu...   \n",
       "8  [Climbing, Vinson, in, Antarctica, is, a, rare...   \n",
       "9  [Mount, Rainier, towers, over, the, skyline, o...   \n",
       "\n",
       "                                                tags  \n",
       "0      [B-MOUNTAIN, I-MOUNTAIN, O, O, O, O, O, O, O]  \n",
       "1                        [B-MOUNTAIN, O, O, O, O, O]  \n",
       "2         [O, O, O, O, B-MOUNTAIN, I-MOUNTAIN, O, O]  \n",
       "3         [B-MOUNTAIN, I-MOUNTAIN, O, O, O, O, O, O]  \n",
       "4                  [O, O, O, O, O, B-MOUNTAIN, O, O]  \n",
       "5   [B-MOUNTAIN, O, O, O, O, O, O, O, O, O, O, O, O]  \n",
       "6  [B-MOUNTAIN, I-MOUNTAIN, I-MOUNTAIN, I-MOUNTAI...  \n",
       "7         [B-MOUNTAIN, I-MOUNTAIN, O, O, O, O, O, O]  \n",
       "8                  [O, B-MOUNTAIN, O, O, O, O, O, O]  \n",
       "9         [B-MOUNTAIN, I-MOUNTAIN, O, O, O, O, O, O]  "
      ]
     },
     "execution_count": 10,
     "metadata": {},
     "output_type": "execute_result"
    }
   ],
   "source": [
    "\n",
    "final_df.head(10)"
   ]
  }
 ],
 "metadata": {
  "kernelspec": {
   "display_name": ".venv",
   "language": "python",
   "name": "python3"
  },
  "language_info": {
   "codemirror_mode": {
    "name": "ipython",
    "version": 3
   },
   "file_extension": ".py",
   "mimetype": "text/x-python",
   "name": "python",
   "nbconvert_exporter": "python",
   "pygments_lexer": "ipython3",
   "version": "3.12.4"
  }
 },
 "nbformat": 4,
 "nbformat_minor": 2
}
